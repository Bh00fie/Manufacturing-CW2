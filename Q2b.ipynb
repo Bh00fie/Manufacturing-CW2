{
 "cells": [
  {
   "cell_type": "code",
   "execution_count": null,
   "metadata": {},
   "outputs": [],
   "source": [
    "#Variables\n",
    "import numpy as np\n",
    "import matplotlib.pyplot as plt\n",
    "#Q2 i - Li\n",
    "cells_per_pack_Li = 30\n",
    "cells_per_pack_Al = 40\n",
    "total_packs_required_Li = 5000\n",
    "total_packs_required_Al = 5000\n",
    "operational_hours_per_day = 20\n",
    "operational_days_per_week = 7\n",
    "picking_time_per_cell = 9  # seconds\n",
    "bin_replacement_time = 15 # Seconds\n",
    "defect_rate_Li = 1 / 4000\n",
    "defect_rate_Al = 1 / 2000\n",
    "n_lines = 1\n",
    "n_conveyer = 3\n",
    "n_robot = 1\n",
    "number_of_components_per_line = n_conveyer+n_robot\n",
    "probability_of_failure = 0.01\n",
    "probability_of_failure_per_pack = number_of_components_per_line*probability_of_failure\n",
    "average_downtime_per_failure = 30 * 60  # converting minutes to seconds\n",
    "#Cost Analysis\n",
    "cost_per_conveyer = 10*1e3\n",
    "cost_per_robot = 125*1e3\n",
    "conveyer_use_per_hour = 10 \n",
    "robot_use_per_hour = 10\n",
    "conveyer_repair_per_hour = 1000\n",
    "robot_repair_per_hour = 1000\n",
    "current_cost = 155*1e3"
   ]
  }
 ],
 "metadata": {
  "language_info": {
   "name": "python"
  }
 },
 "nbformat": 4,
 "nbformat_minor": 2
}
