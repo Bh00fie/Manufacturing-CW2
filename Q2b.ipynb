{
 "cells": [
  {
   "cell_type": "code",
   "execution_count": 20,
   "metadata": {},
   "outputs": [],
   "source": [
    "#Variables\n",
    "import numpy as np\n",
    "import matplotlib.pyplot as plt\n",
    "#Q2 i - Li\n",
    "cells_per_pack_Li = 30\n",
    "cells_per_pack_Al = 40\n",
    "total_packs_required_Li = 5000\n",
    "total_packs_required_Al = 5000\n",
    "operational_hours_per_day = 20\n",
    "operational_days_per_week = 7\n",
    "picking_time_per_cell = 9  # seconds\n",
    "bin_replacement_time = 15 # Seconds\n",
    "defect_rate_Li = 1 / 4000\n",
    "defect_rate_Al = 1 / 2000\n",
    "n_lines = 2\n",
    "n_conveyer = 3\n",
    "n_robot = 1\n",
    "number_of_components_per_line = n_conveyer+n_robot\n",
    "probability_of_failure = 0.01\n",
    "probability_of_failure_per_pack = number_of_components_per_line*probability_of_failure\n",
    "average_downtime_per_failure = 30 * 60  # converting minutes to seconds\n",
    "#Cost Analysis\n",
    "cost_per_conveyer = 10*1e3\n",
    "cost_per_robot = 125*1e3\n",
    "conveyer_use_per_hour = 10 \n",
    "robot_use_per_hour = 10\n",
    "conveyer_repair_per_hour = 1000\n",
    "robot_repair_per_hour = 1000\n",
    "current_cost = 155*1e3"
   ]
  },
  {
   "cell_type": "code",
   "execution_count": 21,
   "metadata": {},
   "outputs": [
    {
     "name": "stdout",
     "output_type": "stream",
     "text": [
      "\n",
      "LITHIUM BATTERIES\n",
      "The total number of packs required including the rate of defect to meet the annual demand is 30.007501875468865\n",
      "If this value of 30.007501875468865 is converted in the number of cell that needs to manufactured, this is 150037.50937734434\n",
      "----------\n",
      "\n",
      "ALUMINIUM BATTERIES\n",
      "The total number of packs required including the rate of defect to meet the annual demand is 40.0200100050025\n",
      "If this value of 40.0200100050025 is converted in the number of cell that needs to manufactured, this is 200100.0500250125\n",
      "----------\n"
     ]
    }
   ],
   "source": [
    "# Effective cells needed considering defects\n",
    "print('\\nLITHIUM BATTERIES')\n",
    "effective_cells_per_pack_Li = cells_per_pack_Li / (1 - defect_rate_Li)\n",
    "print(f'The total number of packs required including the rate of defect to meet the annual demand is {effective_cells_per_pack_Li}')\n",
    "# Total effective cells needed\n",
    "total_effective_cells_Li = effective_cells_per_pack_Li * total_packs_required_Li\n",
    "print(f'If this value of {effective_cells_per_pack_Li} is converted in the number of cell that needs to manufactured, this is {total_effective_cells_Li}')\n",
    "print(\"----------\")\n",
    "\n",
    "print('\\nALUMINIUM BATTERIES')\n",
    "# Effective cells needed considering defects\n",
    "effective_cells_per_pack_Al = cells_per_pack_Al / (1 - defect_rate_Al)\n",
    "print(f'The total number of packs required including the rate of defect to meet the annual demand is {effective_cells_per_pack_Al}')\n",
    "# Total effective cells needed\n",
    "total_effective_cells_Al = effective_cells_per_pack_Al * total_packs_required_Al\n",
    "print(f'If this value of {effective_cells_per_pack_Al} is converted in the number of cell that needs to manufactured, this is {total_effective_cells_Al}')\n",
    "print(\"----------\")\n",
    "\n"
   ]
  }
 ],
 "metadata": {
  "kernelspec": {
   "display_name": "Python 3",
   "language": "python",
   "name": "python3"
  },
  "language_info": {
   "codemirror_mode": {
    "name": "ipython",
    "version": 3
   },
   "file_extension": ".py",
   "mimetype": "text/x-python",
   "name": "python",
   "nbconvert_exporter": "python",
   "pygments_lexer": "ipython3",
   "version": "3.12.0"
  }
 },
 "nbformat": 4,
 "nbformat_minor": 2
}
